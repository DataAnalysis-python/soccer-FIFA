{
  "nbformat": 4,
  "nbformat_minor": 0,
  "metadata": {
    "colab": {
      "provenance": [],
      "authorship_tag": "ABX9TyMepBt+i4fT9xNwNaIdHhP7",
      "include_colab_link": true
    },
    "kernelspec": {
      "name": "python3",
      "display_name": "Python 3"
    },
    "language_info": {
      "name": "python"
    }
  },
  "cells": [
    {
      "cell_type": "markdown",
      "metadata": {
        "id": "view-in-github",
        "colab_type": "text"
      },
      "source": [
        "<a href=\"https://colab.research.google.com/github/DataAnalysis-python/soccer-FIFA/blob/sunmi/%ED%8C%8C%EC%9D%B4%EC%8D%AC_%EB%8D%B0%EC%9D%B4%ED%84%B0%EB%B6%84%EC%84%9D.ipynb\" target=\"_parent\"><img src=\"https://colab.research.google.com/assets/colab-badge.svg\" alt=\"Open In Colab\"/></a>"
      ]
    },
    {
      "cell_type": "code",
      "execution_count": 63,
      "metadata": {
        "id": "XRf7vefxPWry"
      },
      "outputs": [],
      "source": [
        "#FIFA 선수 이적료 예측 경진대회\n"
      ]
    },
    {
      "cell_type": "code",
      "source": [
        "!sudo apt-get install -y fonts-nanum\n",
        "!sudo fc-cache -fv]\n",
        "!rm ~/.cache/matplotlib -rf"
      ],
      "metadata": {
        "colab": {
          "base_uri": "https://localhost:8080/"
        },
        "id": "obemWZd-XELa",
        "outputId": "c410f429-66f3-448f-b0b5-093dd5783cac"
      },
      "execution_count": 64,
      "outputs": [
        {
          "output_type": "stream",
          "name": "stdout",
          "text": [
            "Reading package lists... Done\n",
            "Building dependency tree       \n",
            "Reading state information... Done\n",
            "fonts-nanum is already the newest version (20180306-3).\n",
            "0 upgraded, 0 newly installed, 0 to remove and 24 not upgraded.\n",
            "fc-cache: invalid option -- ']'\n",
            "usage: fc-cache [-EfrsvVh] [-y SYSROOT] [--error-on-no-fonts] [--force|--really-force] [--sysroot=SYSROOT] [--system-only] [--verbose] [--version] [--help] [dirs]\n",
            "Build font information caches in [dirs]\n",
            "(all directories in font configuration by default).\n",
            "\n",
            "  -E, --error-on-no-fonts  raise an error if no fonts in a directory\n",
            "  -f, --force              scan directories with apparently valid caches\n",
            "  -r, --really-force       erase all existing caches, then rescan\n",
            "  -s, --system-only        scan system-wide directories only\n",
            "  -y, --sysroot=SYSROOT    prepend SYSROOT to all paths for scanning\n",
            "  -v, --verbose            display status information while busy\n",
            "  -V, --version            display font config version and exit\n",
            "  -h, --help               display this help and exit\n"
          ]
        }
      ]
    },
    {
      "cell_type": "code",
      "source": [
        "from google.colab import drive\n",
        "drive.mount('/content/drive')"
      ],
      "metadata": {
        "colab": {
          "base_uri": "https://localhost:8080/"
        },
        "id": "2qXRpC0pZj-8",
        "outputId": "26bf8701-6683-495f-f622-cef3574e7fd8"
      },
      "execution_count": 65,
      "outputs": [
        {
          "output_type": "stream",
          "name": "stdout",
          "text": [
            "Drive already mounted at /content/drive; to attempt to forcibly remount, call drive.mount(\"/content/drive\", force_remount=True).\n"
          ]
        }
      ]
    },
    {
      "cell_type": "code",
      "source": [
        "import pandas as pd\n",
        "import matplotlib.pyplot as plt\n",
        "import seaborn as sns "
      ],
      "metadata": {
        "id": "6uUCZj4YcUvj"
      },
      "execution_count": 66,
      "outputs": []
    },
    {
      "cell_type": "code",
      "source": [
        "train= pd.read_csv('/content/drive/MyDrive/데이콘/FIFA_train.csv')"
      ],
      "metadata": {
        "id": "ctBope5GcMZO"
      },
      "execution_count": 67,
      "outputs": []
    },
    {
      "cell_type": "code",
      "source": [
        "train=train[:200]"
      ],
      "metadata": {
        "id": "OURW_MLzdLf_"
      },
      "execution_count": 68,
      "outputs": []
    },
    {
      "cell_type": "code",
      "source": [
        "train.info()"
      ],
      "metadata": {
        "colab": {
          "base_uri": "https://localhost:8080/"
        },
        "id": "ra5M89M9dRZC",
        "outputId": "0f2a864b-d91c-4867-f200-caa1c10947c7"
      },
      "execution_count": 69,
      "outputs": [
        {
          "output_type": "stream",
          "name": "stdout",
          "text": [
            "<class 'pandas.core.frame.DataFrame'>\n",
            "RangeIndex: 200 entries, 0 to 199\n",
            "Data columns (total 12 columns):\n",
            " #   Column            Non-Null Count  Dtype  \n",
            "---  ------            --------------  -----  \n",
            " 0   id                200 non-null    int64  \n",
            " 1   name              200 non-null    object \n",
            " 2   age               200 non-null    int64  \n",
            " 3   continent         200 non-null    object \n",
            " 4   contract_until    200 non-null    object \n",
            " 5   position          200 non-null    object \n",
            " 6   prefer_foot       200 non-null    object \n",
            " 7   reputation        200 non-null    float64\n",
            " 8   stat_overall      200 non-null    int64  \n",
            " 9   stat_potential    200 non-null    int64  \n",
            " 10  stat_skill_moves  200 non-null    float64\n",
            " 11  value             200 non-null    float64\n",
            "dtypes: float64(3), int64(4), object(5)\n",
            "memory usage: 18.9+ KB\n"
          ]
        }
      ]
    },
    {
      "cell_type": "code",
      "source": [
        "# 내림차순으로 정렬\n",
        "train.sort_values(by=\"value\",ascending=False)"
      ],
      "metadata": {
        "colab": {
          "base_uri": "https://localhost:8080/",
          "height": 423
        },
        "id": "jKk3__XQdaj-",
        "outputId": "41e3167b-744c-492a-9df1-0a9262f28b9f"
      },
      "execution_count": 70,
      "outputs": [
        {
          "output_type": "execute_result",
          "data": {
            "text/plain": [
              "      id        name  age      continent contract_until position prefer_foot  \\\n",
              "0      0    L. Messi   31  south america           2021       ST        left   \n",
              "2      7   L. Suárez   31  south america           2021       ST       right   \n",
              "17    30        Isco   26         europe           2022       ST       right   \n",
              "1      3      De Gea   27         europe           2020       GK       right   \n",
              "18    32    Coutinho   26  south america           2023       ST       right   \n",
              "..   ...         ...  ...            ...            ...      ...         ...   \n",
              "195  316      Aduriz   37         europe           2019       ST       right   \n",
              "138  224  Pepe Reina   35         europe           2021       GK       right   \n",
              "194  314  Dani Alves   35  south america           2019       DF       right   \n",
              "23    41   G. Buffon   40         europe           2019       GK       right   \n",
              "196  317     P. Čech   36         europe           2019       GK        left   \n",
              "\n",
              "     reputation  stat_overall  stat_potential  stat_skill_moves        value  \n",
              "0           5.0            94              94               4.0  110500000.0  \n",
              "2           5.0            91              91               3.0   80000000.0  \n",
              "17          3.0            88              91               4.0   73500000.0  \n",
              "1           4.0            91              93               1.0   72000000.0  \n",
              "18          3.0            88              89               5.0   69500000.0  \n",
              "..          ...           ...             ...               ...          ...  \n",
              "195         3.0            82              82               3.0    8000000.0  \n",
              "138         3.0            83              83               1.0    6000000.0  \n",
              "194         4.0            82              82               4.0    4800000.0  \n",
              "23          4.0            88              88               1.0    4000000.0  \n",
              "196         4.0            82              82               1.0    3000000.0  \n",
              "\n",
              "[200 rows x 12 columns]"
            ],
            "text/html": [
              "\n",
              "  <div id=\"df-3136ddd1-4611-44d1-be6a-0f6b2a352ee3\">\n",
              "    <div class=\"colab-df-container\">\n",
              "      <div>\n",
              "<style scoped>\n",
              "    .dataframe tbody tr th:only-of-type {\n",
              "        vertical-align: middle;\n",
              "    }\n",
              "\n",
              "    .dataframe tbody tr th {\n",
              "        vertical-align: top;\n",
              "    }\n",
              "\n",
              "    .dataframe thead th {\n",
              "        text-align: right;\n",
              "    }\n",
              "</style>\n",
              "<table border=\"1\" class=\"dataframe\">\n",
              "  <thead>\n",
              "    <tr style=\"text-align: right;\">\n",
              "      <th></th>\n",
              "      <th>id</th>\n",
              "      <th>name</th>\n",
              "      <th>age</th>\n",
              "      <th>continent</th>\n",
              "      <th>contract_until</th>\n",
              "      <th>position</th>\n",
              "      <th>prefer_foot</th>\n",
              "      <th>reputation</th>\n",
              "      <th>stat_overall</th>\n",
              "      <th>stat_potential</th>\n",
              "      <th>stat_skill_moves</th>\n",
              "      <th>value</th>\n",
              "    </tr>\n",
              "  </thead>\n",
              "  <tbody>\n",
              "    <tr>\n",
              "      <th>0</th>\n",
              "      <td>0</td>\n",
              "      <td>L. Messi</td>\n",
              "      <td>31</td>\n",
              "      <td>south america</td>\n",
              "      <td>2021</td>\n",
              "      <td>ST</td>\n",
              "      <td>left</td>\n",
              "      <td>5.0</td>\n",
              "      <td>94</td>\n",
              "      <td>94</td>\n",
              "      <td>4.0</td>\n",
              "      <td>110500000.0</td>\n",
              "    </tr>\n",
              "    <tr>\n",
              "      <th>2</th>\n",
              "      <td>7</td>\n",
              "      <td>L. Suárez</td>\n",
              "      <td>31</td>\n",
              "      <td>south america</td>\n",
              "      <td>2021</td>\n",
              "      <td>ST</td>\n",
              "      <td>right</td>\n",
              "      <td>5.0</td>\n",
              "      <td>91</td>\n",
              "      <td>91</td>\n",
              "      <td>3.0</td>\n",
              "      <td>80000000.0</td>\n",
              "    </tr>\n",
              "    <tr>\n",
              "      <th>17</th>\n",
              "      <td>30</td>\n",
              "      <td>Isco</td>\n",
              "      <td>26</td>\n",
              "      <td>europe</td>\n",
              "      <td>2022</td>\n",
              "      <td>ST</td>\n",
              "      <td>right</td>\n",
              "      <td>3.0</td>\n",
              "      <td>88</td>\n",
              "      <td>91</td>\n",
              "      <td>4.0</td>\n",
              "      <td>73500000.0</td>\n",
              "    </tr>\n",
              "    <tr>\n",
              "      <th>1</th>\n",
              "      <td>3</td>\n",
              "      <td>De Gea</td>\n",
              "      <td>27</td>\n",
              "      <td>europe</td>\n",
              "      <td>2020</td>\n",
              "      <td>GK</td>\n",
              "      <td>right</td>\n",
              "      <td>4.0</td>\n",
              "      <td>91</td>\n",
              "      <td>93</td>\n",
              "      <td>1.0</td>\n",
              "      <td>72000000.0</td>\n",
              "    </tr>\n",
              "    <tr>\n",
              "      <th>18</th>\n",
              "      <td>32</td>\n",
              "      <td>Coutinho</td>\n",
              "      <td>26</td>\n",
              "      <td>south america</td>\n",
              "      <td>2023</td>\n",
              "      <td>ST</td>\n",
              "      <td>right</td>\n",
              "      <td>3.0</td>\n",
              "      <td>88</td>\n",
              "      <td>89</td>\n",
              "      <td>5.0</td>\n",
              "      <td>69500000.0</td>\n",
              "    </tr>\n",
              "    <tr>\n",
              "      <th>...</th>\n",
              "      <td>...</td>\n",
              "      <td>...</td>\n",
              "      <td>...</td>\n",
              "      <td>...</td>\n",
              "      <td>...</td>\n",
              "      <td>...</td>\n",
              "      <td>...</td>\n",
              "      <td>...</td>\n",
              "      <td>...</td>\n",
              "      <td>...</td>\n",
              "      <td>...</td>\n",
              "      <td>...</td>\n",
              "    </tr>\n",
              "    <tr>\n",
              "      <th>195</th>\n",
              "      <td>316</td>\n",
              "      <td>Aduriz</td>\n",
              "      <td>37</td>\n",
              "      <td>europe</td>\n",
              "      <td>2019</td>\n",
              "      <td>ST</td>\n",
              "      <td>right</td>\n",
              "      <td>3.0</td>\n",
              "      <td>82</td>\n",
              "      <td>82</td>\n",
              "      <td>3.0</td>\n",
              "      <td>8000000.0</td>\n",
              "    </tr>\n",
              "    <tr>\n",
              "      <th>138</th>\n",
              "      <td>224</td>\n",
              "      <td>Pepe Reina</td>\n",
              "      <td>35</td>\n",
              "      <td>europe</td>\n",
              "      <td>2021</td>\n",
              "      <td>GK</td>\n",
              "      <td>right</td>\n",
              "      <td>3.0</td>\n",
              "      <td>83</td>\n",
              "      <td>83</td>\n",
              "      <td>1.0</td>\n",
              "      <td>6000000.0</td>\n",
              "    </tr>\n",
              "    <tr>\n",
              "      <th>194</th>\n",
              "      <td>314</td>\n",
              "      <td>Dani Alves</td>\n",
              "      <td>35</td>\n",
              "      <td>south america</td>\n",
              "      <td>2019</td>\n",
              "      <td>DF</td>\n",
              "      <td>right</td>\n",
              "      <td>4.0</td>\n",
              "      <td>82</td>\n",
              "      <td>82</td>\n",
              "      <td>4.0</td>\n",
              "      <td>4800000.0</td>\n",
              "    </tr>\n",
              "    <tr>\n",
              "      <th>23</th>\n",
              "      <td>41</td>\n",
              "      <td>G. Buffon</td>\n",
              "      <td>40</td>\n",
              "      <td>europe</td>\n",
              "      <td>2019</td>\n",
              "      <td>GK</td>\n",
              "      <td>right</td>\n",
              "      <td>4.0</td>\n",
              "      <td>88</td>\n",
              "      <td>88</td>\n",
              "      <td>1.0</td>\n",
              "      <td>4000000.0</td>\n",
              "    </tr>\n",
              "    <tr>\n",
              "      <th>196</th>\n",
              "      <td>317</td>\n",
              "      <td>P. Čech</td>\n",
              "      <td>36</td>\n",
              "      <td>europe</td>\n",
              "      <td>2019</td>\n",
              "      <td>GK</td>\n",
              "      <td>left</td>\n",
              "      <td>4.0</td>\n",
              "      <td>82</td>\n",
              "      <td>82</td>\n",
              "      <td>1.0</td>\n",
              "      <td>3000000.0</td>\n",
              "    </tr>\n",
              "  </tbody>\n",
              "</table>\n",
              "<p>200 rows × 12 columns</p>\n",
              "</div>\n",
              "      <button class=\"colab-df-convert\" onclick=\"convertToInteractive('df-3136ddd1-4611-44d1-be6a-0f6b2a352ee3')\"\n",
              "              title=\"Convert this dataframe to an interactive table.\"\n",
              "              style=\"display:none;\">\n",
              "        \n",
              "  <svg xmlns=\"http://www.w3.org/2000/svg\" height=\"24px\"viewBox=\"0 0 24 24\"\n",
              "       width=\"24px\">\n",
              "    <path d=\"M0 0h24v24H0V0z\" fill=\"none\"/>\n",
              "    <path d=\"M18.56 5.44l.94 2.06.94-2.06 2.06-.94-2.06-.94-.94-2.06-.94 2.06-2.06.94zm-11 1L8.5 8.5l.94-2.06 2.06-.94-2.06-.94L8.5 2.5l-.94 2.06-2.06.94zm10 10l.94 2.06.94-2.06 2.06-.94-2.06-.94-.94-2.06-.94 2.06-2.06.94z\"/><path d=\"M17.41 7.96l-1.37-1.37c-.4-.4-.92-.59-1.43-.59-.52 0-1.04.2-1.43.59L10.3 9.45l-7.72 7.72c-.78.78-.78 2.05 0 2.83L4 21.41c.39.39.9.59 1.41.59.51 0 1.02-.2 1.41-.59l7.78-7.78 2.81-2.81c.8-.78.8-2.07 0-2.86zM5.41 20L4 18.59l7.72-7.72 1.47 1.35L5.41 20z\"/>\n",
              "  </svg>\n",
              "      </button>\n",
              "      \n",
              "  <style>\n",
              "    .colab-df-container {\n",
              "      display:flex;\n",
              "      flex-wrap:wrap;\n",
              "      gap: 12px;\n",
              "    }\n",
              "\n",
              "    .colab-df-convert {\n",
              "      background-color: #E8F0FE;\n",
              "      border: none;\n",
              "      border-radius: 50%;\n",
              "      cursor: pointer;\n",
              "      display: none;\n",
              "      fill: #1967D2;\n",
              "      height: 32px;\n",
              "      padding: 0 0 0 0;\n",
              "      width: 32px;\n",
              "    }\n",
              "\n",
              "    .colab-df-convert:hover {\n",
              "      background-color: #E2EBFA;\n",
              "      box-shadow: 0px 1px 2px rgba(60, 64, 67, 0.3), 0px 1px 3px 1px rgba(60, 64, 67, 0.15);\n",
              "      fill: #174EA6;\n",
              "    }\n",
              "\n",
              "    [theme=dark] .colab-df-convert {\n",
              "      background-color: #3B4455;\n",
              "      fill: #D2E3FC;\n",
              "    }\n",
              "\n",
              "    [theme=dark] .colab-df-convert:hover {\n",
              "      background-color: #434B5C;\n",
              "      box-shadow: 0px 1px 3px 1px rgba(0, 0, 0, 0.15);\n",
              "      filter: drop-shadow(0px 1px 2px rgba(0, 0, 0, 0.3));\n",
              "      fill: #FFFFFF;\n",
              "    }\n",
              "  </style>\n",
              "\n",
              "      <script>\n",
              "        const buttonEl =\n",
              "          document.querySelector('#df-3136ddd1-4611-44d1-be6a-0f6b2a352ee3 button.colab-df-convert');\n",
              "        buttonEl.style.display =\n",
              "          google.colab.kernel.accessAllowed ? 'block' : 'none';\n",
              "\n",
              "        async function convertToInteractive(key) {\n",
              "          const element = document.querySelector('#df-3136ddd1-4611-44d1-be6a-0f6b2a352ee3');\n",
              "          const dataTable =\n",
              "            await google.colab.kernel.invokeFunction('convertToInteractive',\n",
              "                                                     [key], {});\n",
              "          if (!dataTable) return;\n",
              "\n",
              "          const docLinkHtml = 'Like what you see? Visit the ' +\n",
              "            '<a target=\"_blank\" href=https://colab.research.google.com/notebooks/data_table.ipynb>data table notebook</a>'\n",
              "            + ' to learn more about interactive tables.';\n",
              "          element.innerHTML = '';\n",
              "          dataTable['output_type'] = 'display_data';\n",
              "          await google.colab.output.renderOutput(dataTable, element);\n",
              "          const docLink = document.createElement('div');\n",
              "          docLink.innerHTML = docLinkHtml;\n",
              "          element.appendChild(docLink);\n",
              "        }\n",
              "      </script>\n",
              "    </div>\n",
              "  </div>\n",
              "  "
            ]
          },
          "metadata": {},
          "execution_count": 70
        }
      ]
    },
    {
      "cell_type": "code",
      "source": [
        "# 계약기간을 2019~2024년으로 한정\n",
        "train[\"contract_until\"].unique()\n",
        "\n",
        "year=['2021', '2020', '2019', '2023', '2022', '2024']\n",
        "\n",
        "#지정한 계약기간이 아닌 \n",
        "train[~train[\"contract_until\"].isin(year)]\n",
        "\n",
        "#행 5개의 행을 제외\n",
        "train=train[train[\"contract_until\"].isin(year)]\n",
        "\n",
        "train"
      ],
      "metadata": {
        "colab": {
          "base_uri": "https://localhost:8080/",
          "height": 423
        },
        "id": "traKwlt3dhGd",
        "outputId": "6c3da62c-7d2e-4b47-8c74-9003c05d07a8"
      },
      "execution_count": 71,
      "outputs": [
        {
          "output_type": "execute_result",
          "data": {
            "text/plain": [
              "      id           name  age      continent contract_until position  \\\n",
              "0      0       L. Messi   31  south america           2021       ST   \n",
              "1      3         De Gea   27         europe           2020       GK   \n",
              "2      7      L. Suárez   31  south america           2021       ST   \n",
              "3      8   Sergio Ramos   32         europe           2020       DF   \n",
              "4      9       J. Oblak   25         europe           2021       GK   \n",
              "..   ...            ...  ...            ...            ...      ...   \n",
              "195  316         Aduriz   37         europe           2019       ST   \n",
              "196  317        P. Čech   36         europe           2019       GK   \n",
              "197  324  Nélson Semedo   24         europe           2022       DF   \n",
              "198  325  Pablo Fornals   22         europe           2022       MF   \n",
              "199  330        Morales   30         europe           2021       ST   \n",
              "\n",
              "    prefer_foot  reputation  stat_overall  stat_potential  stat_skill_moves  \\\n",
              "0          left         5.0            94              94               4.0   \n",
              "1         right         4.0            91              93               1.0   \n",
              "2         right         5.0            91              91               3.0   \n",
              "3         right         4.0            91              91               3.0   \n",
              "4         right         3.0            90              93               1.0   \n",
              "..          ...         ...           ...             ...               ...   \n",
              "195       right         3.0            82              82               3.0   \n",
              "196        left         4.0            82              82               1.0   \n",
              "197       right         2.0            81              86               4.0   \n",
              "198       right         1.0            81              86               4.0   \n",
              "199       right         1.0            81              81               4.0   \n",
              "\n",
              "           value  \n",
              "0    110500000.0  \n",
              "1     72000000.0  \n",
              "2     80000000.0  \n",
              "3     51000000.0  \n",
              "4     68000000.0  \n",
              "..           ...  \n",
              "195    8000000.0  \n",
              "196    3000000.0  \n",
              "197   20000000.0  \n",
              "198   24000000.0  \n",
              "199   17000000.0  \n",
              "\n",
              "[195 rows x 12 columns]"
            ],
            "text/html": [
              "\n",
              "  <div id=\"df-f30e6894-9782-4cac-9d2d-cc13205c9d61\">\n",
              "    <div class=\"colab-df-container\">\n",
              "      <div>\n",
              "<style scoped>\n",
              "    .dataframe tbody tr th:only-of-type {\n",
              "        vertical-align: middle;\n",
              "    }\n",
              "\n",
              "    .dataframe tbody tr th {\n",
              "        vertical-align: top;\n",
              "    }\n",
              "\n",
              "    .dataframe thead th {\n",
              "        text-align: right;\n",
              "    }\n",
              "</style>\n",
              "<table border=\"1\" class=\"dataframe\">\n",
              "  <thead>\n",
              "    <tr style=\"text-align: right;\">\n",
              "      <th></th>\n",
              "      <th>id</th>\n",
              "      <th>name</th>\n",
              "      <th>age</th>\n",
              "      <th>continent</th>\n",
              "      <th>contract_until</th>\n",
              "      <th>position</th>\n",
              "      <th>prefer_foot</th>\n",
              "      <th>reputation</th>\n",
              "      <th>stat_overall</th>\n",
              "      <th>stat_potential</th>\n",
              "      <th>stat_skill_moves</th>\n",
              "      <th>value</th>\n",
              "    </tr>\n",
              "  </thead>\n",
              "  <tbody>\n",
              "    <tr>\n",
              "      <th>0</th>\n",
              "      <td>0</td>\n",
              "      <td>L. Messi</td>\n",
              "      <td>31</td>\n",
              "      <td>south america</td>\n",
              "      <td>2021</td>\n",
              "      <td>ST</td>\n",
              "      <td>left</td>\n",
              "      <td>5.0</td>\n",
              "      <td>94</td>\n",
              "      <td>94</td>\n",
              "      <td>4.0</td>\n",
              "      <td>110500000.0</td>\n",
              "    </tr>\n",
              "    <tr>\n",
              "      <th>1</th>\n",
              "      <td>3</td>\n",
              "      <td>De Gea</td>\n",
              "      <td>27</td>\n",
              "      <td>europe</td>\n",
              "      <td>2020</td>\n",
              "      <td>GK</td>\n",
              "      <td>right</td>\n",
              "      <td>4.0</td>\n",
              "      <td>91</td>\n",
              "      <td>93</td>\n",
              "      <td>1.0</td>\n",
              "      <td>72000000.0</td>\n",
              "    </tr>\n",
              "    <tr>\n",
              "      <th>2</th>\n",
              "      <td>7</td>\n",
              "      <td>L. Suárez</td>\n",
              "      <td>31</td>\n",
              "      <td>south america</td>\n",
              "      <td>2021</td>\n",
              "      <td>ST</td>\n",
              "      <td>right</td>\n",
              "      <td>5.0</td>\n",
              "      <td>91</td>\n",
              "      <td>91</td>\n",
              "      <td>3.0</td>\n",
              "      <td>80000000.0</td>\n",
              "    </tr>\n",
              "    <tr>\n",
              "      <th>3</th>\n",
              "      <td>8</td>\n",
              "      <td>Sergio Ramos</td>\n",
              "      <td>32</td>\n",
              "      <td>europe</td>\n",
              "      <td>2020</td>\n",
              "      <td>DF</td>\n",
              "      <td>right</td>\n",
              "      <td>4.0</td>\n",
              "      <td>91</td>\n",
              "      <td>91</td>\n",
              "      <td>3.0</td>\n",
              "      <td>51000000.0</td>\n",
              "    </tr>\n",
              "    <tr>\n",
              "      <th>4</th>\n",
              "      <td>9</td>\n",
              "      <td>J. Oblak</td>\n",
              "      <td>25</td>\n",
              "      <td>europe</td>\n",
              "      <td>2021</td>\n",
              "      <td>GK</td>\n",
              "      <td>right</td>\n",
              "      <td>3.0</td>\n",
              "      <td>90</td>\n",
              "      <td>93</td>\n",
              "      <td>1.0</td>\n",
              "      <td>68000000.0</td>\n",
              "    </tr>\n",
              "    <tr>\n",
              "      <th>...</th>\n",
              "      <td>...</td>\n",
              "      <td>...</td>\n",
              "      <td>...</td>\n",
              "      <td>...</td>\n",
              "      <td>...</td>\n",
              "      <td>...</td>\n",
              "      <td>...</td>\n",
              "      <td>...</td>\n",
              "      <td>...</td>\n",
              "      <td>...</td>\n",
              "      <td>...</td>\n",
              "      <td>...</td>\n",
              "    </tr>\n",
              "    <tr>\n",
              "      <th>195</th>\n",
              "      <td>316</td>\n",
              "      <td>Aduriz</td>\n",
              "      <td>37</td>\n",
              "      <td>europe</td>\n",
              "      <td>2019</td>\n",
              "      <td>ST</td>\n",
              "      <td>right</td>\n",
              "      <td>3.0</td>\n",
              "      <td>82</td>\n",
              "      <td>82</td>\n",
              "      <td>3.0</td>\n",
              "      <td>8000000.0</td>\n",
              "    </tr>\n",
              "    <tr>\n",
              "      <th>196</th>\n",
              "      <td>317</td>\n",
              "      <td>P. Čech</td>\n",
              "      <td>36</td>\n",
              "      <td>europe</td>\n",
              "      <td>2019</td>\n",
              "      <td>GK</td>\n",
              "      <td>left</td>\n",
              "      <td>4.0</td>\n",
              "      <td>82</td>\n",
              "      <td>82</td>\n",
              "      <td>1.0</td>\n",
              "      <td>3000000.0</td>\n",
              "    </tr>\n",
              "    <tr>\n",
              "      <th>197</th>\n",
              "      <td>324</td>\n",
              "      <td>Nélson Semedo</td>\n",
              "      <td>24</td>\n",
              "      <td>europe</td>\n",
              "      <td>2022</td>\n",
              "      <td>DF</td>\n",
              "      <td>right</td>\n",
              "      <td>2.0</td>\n",
              "      <td>81</td>\n",
              "      <td>86</td>\n",
              "      <td>4.0</td>\n",
              "      <td>20000000.0</td>\n",
              "    </tr>\n",
              "    <tr>\n",
              "      <th>198</th>\n",
              "      <td>325</td>\n",
              "      <td>Pablo Fornals</td>\n",
              "      <td>22</td>\n",
              "      <td>europe</td>\n",
              "      <td>2022</td>\n",
              "      <td>MF</td>\n",
              "      <td>right</td>\n",
              "      <td>1.0</td>\n",
              "      <td>81</td>\n",
              "      <td>86</td>\n",
              "      <td>4.0</td>\n",
              "      <td>24000000.0</td>\n",
              "    </tr>\n",
              "    <tr>\n",
              "      <th>199</th>\n",
              "      <td>330</td>\n",
              "      <td>Morales</td>\n",
              "      <td>30</td>\n",
              "      <td>europe</td>\n",
              "      <td>2021</td>\n",
              "      <td>ST</td>\n",
              "      <td>right</td>\n",
              "      <td>1.0</td>\n",
              "      <td>81</td>\n",
              "      <td>81</td>\n",
              "      <td>4.0</td>\n",
              "      <td>17000000.0</td>\n",
              "    </tr>\n",
              "  </tbody>\n",
              "</table>\n",
              "<p>195 rows × 12 columns</p>\n",
              "</div>\n",
              "      <button class=\"colab-df-convert\" onclick=\"convertToInteractive('df-f30e6894-9782-4cac-9d2d-cc13205c9d61')\"\n",
              "              title=\"Convert this dataframe to an interactive table.\"\n",
              "              style=\"display:none;\">\n",
              "        \n",
              "  <svg xmlns=\"http://www.w3.org/2000/svg\" height=\"24px\"viewBox=\"0 0 24 24\"\n",
              "       width=\"24px\">\n",
              "    <path d=\"M0 0h24v24H0V0z\" fill=\"none\"/>\n",
              "    <path d=\"M18.56 5.44l.94 2.06.94-2.06 2.06-.94-2.06-.94-.94-2.06-.94 2.06-2.06.94zm-11 1L8.5 8.5l.94-2.06 2.06-.94-2.06-.94L8.5 2.5l-.94 2.06-2.06.94zm10 10l.94 2.06.94-2.06 2.06-.94-2.06-.94-.94-2.06-.94 2.06-2.06.94z\"/><path d=\"M17.41 7.96l-1.37-1.37c-.4-.4-.92-.59-1.43-.59-.52 0-1.04.2-1.43.59L10.3 9.45l-7.72 7.72c-.78.78-.78 2.05 0 2.83L4 21.41c.39.39.9.59 1.41.59.51 0 1.02-.2 1.41-.59l7.78-7.78 2.81-2.81c.8-.78.8-2.07 0-2.86zM5.41 20L4 18.59l7.72-7.72 1.47 1.35L5.41 20z\"/>\n",
              "  </svg>\n",
              "      </button>\n",
              "      \n",
              "  <style>\n",
              "    .colab-df-container {\n",
              "      display:flex;\n",
              "      flex-wrap:wrap;\n",
              "      gap: 12px;\n",
              "    }\n",
              "\n",
              "    .colab-df-convert {\n",
              "      background-color: #E8F0FE;\n",
              "      border: none;\n",
              "      border-radius: 50%;\n",
              "      cursor: pointer;\n",
              "      display: none;\n",
              "      fill: #1967D2;\n",
              "      height: 32px;\n",
              "      padding: 0 0 0 0;\n",
              "      width: 32px;\n",
              "    }\n",
              "\n",
              "    .colab-df-convert:hover {\n",
              "      background-color: #E2EBFA;\n",
              "      box-shadow: 0px 1px 2px rgba(60, 64, 67, 0.3), 0px 1px 3px 1px rgba(60, 64, 67, 0.15);\n",
              "      fill: #174EA6;\n",
              "    }\n",
              "\n",
              "    [theme=dark] .colab-df-convert {\n",
              "      background-color: #3B4455;\n",
              "      fill: #D2E3FC;\n",
              "    }\n",
              "\n",
              "    [theme=dark] .colab-df-convert:hover {\n",
              "      background-color: #434B5C;\n",
              "      box-shadow: 0px 1px 3px 1px rgba(0, 0, 0, 0.15);\n",
              "      filter: drop-shadow(0px 1px 2px rgba(0, 0, 0, 0.3));\n",
              "      fill: #FFFFFF;\n",
              "    }\n",
              "  </style>\n",
              "\n",
              "      <script>\n",
              "        const buttonEl =\n",
              "          document.querySelector('#df-f30e6894-9782-4cac-9d2d-cc13205c9d61 button.colab-df-convert');\n",
              "        buttonEl.style.display =\n",
              "          google.colab.kernel.accessAllowed ? 'block' : 'none';\n",
              "\n",
              "        async function convertToInteractive(key) {\n",
              "          const element = document.querySelector('#df-f30e6894-9782-4cac-9d2d-cc13205c9d61');\n",
              "          const dataTable =\n",
              "            await google.colab.kernel.invokeFunction('convertToInteractive',\n",
              "                                                     [key], {});\n",
              "          if (!dataTable) return;\n",
              "\n",
              "          const docLinkHtml = 'Like what you see? Visit the ' +\n",
              "            '<a target=\"_blank\" href=https://colab.research.google.com/notebooks/data_table.ipynb>data table notebook</a>'\n",
              "            + ' to learn more about interactive tables.';\n",
              "          element.innerHTML = '';\n",
              "          dataTable['output_type'] = 'display_data';\n",
              "          await google.colab.output.renderOutput(dataTable, element);\n",
              "          const docLink = document.createElement('div');\n",
              "          docLink.innerHTML = docLinkHtml;\n",
              "          element.appendChild(docLink);\n",
              "        }\n",
              "      </script>\n",
              "    </div>\n",
              "  </div>\n",
              "  "
            ]
          },
          "metadata": {},
          "execution_count": 71
        }
      ]
    },
    {
      "cell_type": "code",
      "source": [
        "# 결측치 확인\n",
        "train.isna().sum().sum()"
      ],
      "metadata": {
        "colab": {
          "base_uri": "https://localhost:8080/"
        },
        "id": "rkT8e_t3v8kJ",
        "outputId": "049342b6-997c-4d65-88d9-8e89a30ed97d"
      },
      "execution_count": 88,
      "outputs": [
        {
          "output_type": "execute_result",
          "data": {
            "text/plain": [
              "0"
            ]
          },
          "metadata": {},
          "execution_count": 88
        }
      ]
    },
    {
      "cell_type": "code",
      "source": [
        "#이상치 확인\n",
        "cols = [\"contract_until\", \"position\",\"reputation\",\"stat_overall\",\"stat_potential\",\"age\"]\n",
        "\n",
        "train[cols].info()\n",
        "\n",
        "ncols=[\"reputation\",\"stat_overall\",\"stat_potential\",\"age\"]\n",
        "\n",
        "for i in range(len(ncols)):\n",
        "  train.loc[:,ncols[i]].plot.box()\n",
        "  plt.xticks([])\n",
        "  plt.title(ncols[i])\n",
        "  plt.show()\n",
        "\n",
        "# 그래프 보여주기\n"
      ],
      "metadata": {
        "colab": {
          "base_uri": "https://localhost:8080/",
          "height": 1000
        },
        "id": "WnBGYwD-wDyM",
        "outputId": "f6b00432-38bd-4be7-eb23-0c0c972984f7"
      },
      "execution_count": 117,
      "outputs": [
        {
          "output_type": "stream",
          "name": "stdout",
          "text": [
            "<class 'pandas.core.frame.DataFrame'>\n",
            "Int64Index: 195 entries, 0 to 199\n",
            "Data columns (total 6 columns):\n",
            " #   Column          Non-Null Count  Dtype  \n",
            "---  ------          --------------  -----  \n",
            " 0   contract_until  195 non-null    object \n",
            " 1   position        195 non-null    object \n",
            " 2   reputation      195 non-null    float64\n",
            " 3   stat_overall    195 non-null    int64  \n",
            " 4   stat_potential  195 non-null    int64  \n",
            " 5   age             195 non-null    int64  \n",
            "dtypes: float64(1), int64(3), object(2)\n",
            "memory usage: 10.7+ KB\n"
          ]
        },
        {
          "output_type": "display_data",
          "data": {
            "text/plain": [
              "<Figure size 640x480 with 1 Axes>"
            ],
            "image/png": "[encoded data removed]"
          },
          "metadata": {}
        },
        {
          "output_type": "display_data",
          "data": {
            "text/plain": [
              "<Figure size 640x480 with 1 Axes>"
            ],
            "image/png": "[encoded data removed]"
          },
          "metadata": {}
        },
        {
          "output_type": "display_data",
          "data": {
            "text/plain": [
              "<Figure size 640x480 with 1 Axes>"
            ],
            "image/png": "[encoded data removed]"
          },
          "metadata": {}
        },
        {
          "output_type": "display_data",
          "data": {
            "text/plain": [
              "<Figure size 640x480 with 1 Axes>"
            ],
            "image/png": "[encoded data removed]"
          },
          "metadata": {}
        }
      ]
    },
    {
      "cell_type": "code",
      "source": [
        "cols = [\"contract_until\", \"position\",\"reputation\",\"stat_overall\",\"stat_potential\",\"age\"]\n",
        "result = [train.groupby(col)['value'].mean() for col in cols]\n",
        "\n",
        "for i in range(len(cols)):\n",
        "    r = result[i]\n",
        "    col_name = cols[i]\n",
        "    \n",
        "    x = r.index\n",
        "    y = r.values\n",
        "\n",
        "    plt.bar(x, y)\n",
        "    plt.title(col_name)\n",
        "    plt.show()"
      ],
      "metadata": {
        "colab": {
          "base_uri": "https://localhost:8080/",
          "height": 1000
        },
        "id": "24qw10AEj4vN",
        "outputId": "533e36fc-e364-4024-8935-01ef9b8bb77e"
      },
      "execution_count": 86,
      "outputs": [
        {
          "output_type": "display_data",
          "data": {
            "text/plain": [
              "<Figure size 640x480 with 1 Axes>"
            ],
            "image/png": "[encoded data removed]"
          },
          "metadata": {}
        },
        {
          "output_type": "display_data",
          "data": {
            "text/plain": [
              "<Figure size 640x480 with 1 Axes>"
            ],
            "image/png": "[encoded data removed]"
          },
          "metadata": {}
        },
        {
          "output_type": "display_data",
          "data": {
            "text/plain": [
              "<Figure size 640x480 with 1 Axes>"
            ],
            "image/png": "[encoded data removed]"
          },
          "metadata": {}
        },
        {
          "output_type": "display_data",
          "data": {
            "text/plain": [
              "<Figure size 640x480 with 1 Axes>"
            ],
            "image/png": "[encoded data removed]"
          },
          "metadata": {}
        },
        {
          "output_type": "display_data",
          "data": {
            "text/plain": [
              "<Figure size 640x480 with 1 Axes>"
            ],
            "image/png": "[encoded data removed]"
          },
          "metadata": {}
        },
        {
          "output_type": "display_data",
          "data": {
            "text/plain": [
              "<Figure size 640x480 with 1 Axes>"
            ],
            "image/png": "[encoded data removed]"
          },
          "metadata": {}
        }
      ]
    },
    {
      "cell_type": "markdown",
      "source": [
        "각 조건들과 이적료간의 관계를 분석했을 때의 결과 \n",
        "https://dacon.io/competitions/official/235538/codeshare/5765?page=1&dtype=recent&ptype&fType\n",
        "\n",
        "한계 - mean만으로 이적료간의 관계를 분석하는 방법으론 다소 부족"
      ],
      "metadata": {
        "id": "JXGDpl-OvO9s"
      }
    }
  ]
}